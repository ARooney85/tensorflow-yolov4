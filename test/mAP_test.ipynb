{
 "metadata": {
  "language_info": {
   "codemirror_mode": {
    "name": "ipython",
    "version": 3
   },
   "file_extension": ".py",
   "mimetype": "text/x-python",
   "name": "python",
   "nbconvert_exporter": "python",
   "pygments_lexer": "ipython3",
   "version": 3
  },
  "orig_nbformat": 2,
  "kernelspec": {
   "name": "python_defaultSpec_1596464393320",
   "display_name": "Python 3.7.8 64-bit ('venv': venv)"
  }
 },
 "nbformat": 4,
 "nbformat_minor": 2,
 "cells": [
  {
   "cell_type": "markdown",
   "metadata": {},
   "source": [
    "- 2020-08-03\n",
    "- OS: Windows 10\n",
    "- TF: 2.3.0\n",
    "- yolov4: 0.23.0\n",
    "- mAP: https://github.com/Cartucho/mAP"
   ]
  },
  {
   "cell_type": "code",
   "execution_count": 1,
   "metadata": {},
   "outputs": [],
   "source": [
    "from yolov4.tf import YOLOv4\n",
    "\n",
    "yolo = YOLOv4()\n",
    "\n",
    "yolo.classes = \"coco/coco.names\"\n",
    "\n",
    "yolo.make_model()\n",
    "yolo.load_weights(\"yolov4.weights\", weights_type=\"yolo\")\n",
    "\n",
    "dataset = yolo.load_dataset(\"coco/val2017.txt\", training=False)\n",
    "\n",
    "yolo.save_dataset_for_mAP(\"C:/Users/windows/Desktop/mAP\", dataset, 1000)"
   ]
  },
  {
   "cell_type": "code",
   "execution_count": 2,
   "metadata": {
    "tags": []
   },
   "outputs": [
    {
     "output_type": "stream",
     "name": "stdout",
     "text": "C:\\Users\\windows\\Desktop\\mAP\n"
    }
   ],
   "source": [
    "%cd C:/Users/windows/Desktop/mAP"
   ]
  },
  {
   "cell_type": "code",
   "execution_count": 3,
   "metadata": {
    "tags": []
   },
   "outputs": [
    {
     "output_type": "stream",
     "name": "stdout",
     "text": "80.00% = aeroplane AP \n39.59% = apple AP \n44.66% = backpack AP \n37.34% = banana AP \n80.42% = baseball_bat AP \n59.85% = baseball_glove AP \n77.78% = bear AP \n46.85% = bed AP \n44.02% = bench AP \n47.85% = bicycle AP \n35.75% = bird AP \n58.14% = boat AP \n26.86% = book AP \n52.93% = bottle AP \n57.10% = bowl AP \n40.50% = broccoli AP \n87.25% = bus AP \n75.53% = cake AP \n58.49% = car AP \n24.63% = carrot AP \n75.30% = cat AP \n67.55% = cell_phone AP \n47.50% = chair AP \n71.79% = clock AP \n80.93% = cow AP \n61.69% = cup AP \n32.32% = dining_table AP \n82.51% = dog AP \n76.83% = donut AP \n83.13% = elephant AP \n86.96% = fire_hydrant AP \n41.38% = fork AP \n80.00% = frisbee AP \n90.52% = giraffe AP \n30.47% = handbag AP \n83.13% = horse AP \n75.36% = hot_dog AP \n47.62% = keyboard AP \n67.66% = kite AP \n42.43% = knife AP \n79.74% = laptop AP \n64.81% = microwave AP \n68.34% = motorbike AP \n57.22% = mouse AP \n52.34% = orange AP \n65.18% = oven AP\n88.89% = parking_meter AP \n73.55% = person AP \n54.41% = pizza AP \n59.12% = potted_plant AP \n68.88% = refrigerator AP \n57.18% = remote AP \n73.45% = sandwich AP \n61.36% = scissors AP \n68.38% = sheep AP \n77.55% = sink AP \n90.69% = skateboard AP \n42.40% = skis AP \n63.57% = snowboard AP \n54.19% = sofa AP \n47.26% = spoon AP \n81.89% = sports_ball AP \n77.78% = stop_sign AP \n63.13% = suitcase AP \n53.84% = surfboard AP \n66.00% = teddy_bear AP \n87.87% = tennis_racket AP \n59.55% = tie AP \n76.92% = toilet AP \n50.00% = toothbrush AP \n55.34% = traffic_light AP \n77.40% = train AP \n52.99% = truck AP \n74.96% = tvmonitor AP \n71.01% = umbrella AP \n75.59% = vase AP \n74.23% = wine_glass AP \n80.12% = zebra AP \nmAP = 63.43%\nFigure(640x1638)\n"
    }
   ],
   "source": [
    "!python main.py"
   ]
  }
 ]
}