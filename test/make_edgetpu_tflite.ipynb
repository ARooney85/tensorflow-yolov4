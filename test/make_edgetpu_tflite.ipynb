{
 "metadata": {
  "language_info": {
   "codemirror_mode": {
    "name": "ipython",
    "version": 3
   },
   "file_extension": ".py",
   "mimetype": "text/x-python",
   "name": "python",
   "nbconvert_exporter": "python",
   "pygments_lexer": "ipython3",
   "version": 3
  },
  "orig_nbformat": 2,
  "kernelspec": {
   "name": "python_defaultSpec_1596477857943",
   "display_name": "Python 3.7.8 64-bit ('venv': venv)"
  }
 },
 "nbformat": 4,
 "nbformat_minor": 2,
 "cells": [
  {
   "cell_type": "markdown",
   "metadata": {},
   "source": [
    "- 2020-08-03\n",
    "- OS: Ubuntu 18.04\n",
    "- TF: 2.2.0\n",
    "- yolov4: 0.23.0\n",
    "- edgetpu_compiler: 14.1.317412892"
   ]
  },
  {
   "cell_type": "code",
   "execution_count": 1,
   "metadata": {},
   "outputs": [],
   "source": [
    "from yolov4.tf import YOLOv4\n",
    "\n",
    "yolo = YOLOv4(tiny=True, tpu=True)\n",
    "\n",
    "yolo.classes = \"coco.names\"\n",
    "\n",
    "yolo.make_model(activation1=\"relu\")\n",
    "yolo.load_weights(\"yolov4-tiny-relu.weights\", weights_type=\"yolo\")\n",
    "\n",
    "dataset = yolo.load_dataset(\"train2017.txt\", training=False)\n",
    "\n",
    "yolo.save_as_tflite(\n",
    "    \"yolov4-tiny-relu.tflite\",\n",
    "    quantization=\"full_int8\",\n",
    "    data_set=dataset,\n",
    "    num_calibration_steps=200\n",
    ")"
   ]
  },
  {
   "cell_type": "code",
   "execution_count": 2,
   "metadata": {
    "tags": []
   },
   "outputs": [
    {
     "output_type": "stream",
     "name": "stdout",
     "text": "Edge TPU Compiler version 14.1.317412892\n\nModel compiled successfully in 691 ms.\n\nInput model: yolov4-tiny-relu.tflite\nInput size: 5.93MiB\nOutput model: yolov4-tiny-relu_edgetpu.tflite\nOutput size: 6.03MiB\nOn-chip memory used for caching model parameters: 5.83MiB\nOn-chip memory remaining for caching model parameters: 300.25KiB\nOff-chip memory used for streaming uncached model parameters: 0.00B\nNumber of Edge TPU subgraphs: 1\nTotal number of operations: 51\nOperation log: yolov4-tiny-relu_edgetpu.log\n\nModel successfully compiled but not all operations are supported by the Edge TPU. A percentage of the model will instead run on the CPU, which is slower. If possible, consider updating your model to use only operations supported by the Edge TPU. For details, visit g.co/coral/model-reqs.\nNumber of operations that will run on Edge TPU: 46\nNumber of operations that will run on CPU: 5\nSee the operation log file for individual operation details.\n"
    }
   ],
   "source": [
    "!edgetpu_compiler yolov4-tiny-relu.tflite"
   ]
  },
  {
   "cell_type": "code",
   "execution_count": 3,
   "metadata": {},
   "outputs": [
    {
     "output_type": "stream",
     "name": "stdout",
     "text": "Edge TPU Compiler version 14.1.317412892\nInput: yolov4-tiny-relu.tflite\nOutput: yolov4-tiny-relu_edgetpu.tflite\n\nOperator                       Count      Status\n\nPAD                            2          Mapped to Edge TPU\nCONCATENATION                  7          Mapped to Edge TPU\nRESIZE_BILINEAR                1          Mapped to Edge TPU\nCONV_2D                        21         Mapped to Edge TPU\nDEQUANTIZE                     4          Operation is working on an unsupported data type\nQUANTIZE                       1          Operation is otherwise supported, but not mapped due to some unspecified limitation\nQUANTIZE                       7          Mapped to Edge TPU\nLOGISTIC                       2          Mapped to Edge TPU\nSPLIT                          3          Mapped to Edge TPU\nMAX_POOL_2D                    3          Mapped to Edge TPU\n"
    }
   ],
   "source": [
    "!cat yolov4-tiny-relu_edgetpu.log"
   ]
  },
  {
   "cell_type": "markdown",
   "metadata": {},
   "source": [
    "- 2020-08-03\n",
    "- HW: Coral Dev Board\n",
    "- OS: Mendel\n",
    "- tflite_runtime: 2.1.0.post1\n",
    "- yolov4: 0.23.0"
   ]
  },
  {
   "cell_type": "code",
   "execution_count": null,
   "metadata": {},
   "outputs": [],
   "source": [
    "from yolov4.tflite import YOLOv4\n",
    "\n",
    "yolo = YOLOv4(tiny=True, tpu=True)\n",
    "\n",
    "yolo.classes = \"coco.names\"\n",
    "\n",
    "yolo.load_tflite(\"yolov4-tiny-relu_edgetpu.tflite\")\n",
    "\n",
    "yolo.inference(\"road.mp4\", is_image=False)"
   ]
  }
 ]
}